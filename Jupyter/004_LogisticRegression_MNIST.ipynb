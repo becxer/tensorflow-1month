{
 "cells": [
  {
   "cell_type": "code",
   "execution_count": 2,
   "metadata": {
    "collapsed": false
   },
   "outputs": [
    {
     "name": "stdout",
     "output_type": "stream",
     "text": [
      "packages are loaded\n"
     ]
    }
   ],
   "source": [
    "#\n",
    "# LogisticRegression MNIST\n",
    "#\n",
    "# @author becxer\n",
    "# @email becxer87@gmail.com\n",
    "# @reference https://github.com/sjchoi86/Tensorflow-101\n",
    "#\n",
    "\n",
    "import numpy as np\n",
    "import tensorflow as tf\n",
    "import matplotlib.pyplot as plt\n",
    "%matplotlib inline  \n",
    "\n",
    "print (\"packages are loaded\")"
   ]
  },
  {
   "cell_type": "code",
   "execution_count": 3,
   "metadata": {
    "collapsed": false
   },
   "outputs": [
    {
     "name": "stdout",
     "output_type": "stream",
     "text": [
      "Extracting mnist/train-images-idx3-ubyte.gz\n",
      "Extracting mnist/train-labels-idx1-ubyte.gz\n",
      "Extracting mnist/t10k-images-idx3-ubyte.gz\n",
      "Extracting mnist/t10k-labels-idx1-ubyte.gz\n"
     ]
    }
   ],
   "source": [
    "# Get MNIST data set from tensorflow\n",
    "from tensorflow.examples.tutorials.mnist import input_data\n",
    "mnist_set = input_data.read_data_sets('images/MNIST/', one_hot = True)\n",
    "\n",
    "train_img = mnist_set.train.images\n",
    "train_label = mnist_set.train.labels\n",
    "test_img = mnist_set.test.images\n",
    "test_label = mnist_set.test.labels"
   ]
  },
  {
   "cell_type": "code",
   "execution_count": 4,
   "metadata": {
    "collapsed": true
   },
   "outputs": [],
   "source": [
    "# Options for training\n",
    "learning_rate = 0.01\n",
    "training_epochs = 50\n",
    "batch_size = 100\n",
    "display_step = 10"
   ]
  },
  {
   "cell_type": "code",
   "execution_count": 5,
   "metadata": {
    "collapsed": false
   },
   "outputs": [
    {
     "name": "stdout",
     "output_type": "stream",
     "text": [
      "Graph build\n"
     ]
    }
   ],
   "source": [
    "# Build Graph of Logistic Regression\n",
    "\n",
    "# Define placeholder & Variables\n",
    "x = tf.placeholder(\"float\", [None, train_img.shape[1]])\n",
    "y = tf.placeholder(\"float\", [None, train_label.shape[1]])\n",
    "\n",
    "W = tf.Variable(tf.zeros([train_img.shape[1], train_label.shape[1]]))\n",
    "b = tf.Variable(tf.zeros([train_label.shape[1]]))\n",
    "\n",
    "# Define operators\n",
    "out = tf.nn.softmax( tf.add( tf.matmul(x,W), b) )\n",
    "\n",
    "cost = tf.reduce_mean(-tf.reduce_sum( y * tf.log(out), reduction_indices=1))  # Cross-Entropy cost\n",
    "optm = tf.train.GradientDescentOptimizer(learning_rate).minimize(cost)\n",
    "\n",
    "pred = tf.argmax(out, 1)\n",
    "accr = tf.reduce_mean(tf.cast(tf.equal(pred, tf.argmax(y,1)), \"float\"))\n",
    "\n",
    "init = tf.initialize_all_variables()\n",
    "print (\"Graph build\")"
   ]
  },
  {
   "cell_type": "code",
   "execution_count": 6,
   "metadata": {
    "collapsed": false
   },
   "outputs": [
    {
     "name": "stdout",
     "output_type": "stream",
     "text": [
      "epoch: 000/050  ,  cost: 1.174755  ,  train_img_acc: 0.840\n",
      "epoch: 010/050  ,  cost: 0.381103  ,  train_img_acc: 0.880\n",
      "epoch: 020/050  ,  cost: 0.344895  ,  train_img_acc: 0.920\n",
      "epoch: 030/050  ,  cost: 0.322577  ,  train_img_acc: 0.970\n",
      "epoch: 040/050  ,  cost: 0.311107  ,  train_img_acc: 0.940\n",
      "Training complete, Accuracy : 0.919200\n"
     ]
    }
   ],
   "source": [
    "# Training Graph\n",
    "sess = tf.Session()\n",
    "sess.run(init)\n",
    "\n",
    "for epoch in range(training_epochs):\n",
    "    avg_cost = 0.\n",
    "    num_batch = int(train_img.shape[0]/batch_size)\n",
    "    for i in range(num_batch):\n",
    "        randidx = np.random.randint(train_img.shape[0], size=batch_size)\n",
    "        batch_xs = train_img[randidx, :]\n",
    "        batch_ys = train_label[randidx, :]                \n",
    "            \n",
    "        sess.run(optm, feed_dict={x: batch_xs, y: batch_ys})\n",
    "        avg_cost += sess.run(cost, feed_dict={x: batch_xs, y: batch_ys})/num_batch\n",
    "            \n",
    "    if epoch % display_step == 0:\n",
    "        train_img_acc = sess.run(accr , ({x: batch_xs, y: batch_ys}))\n",
    "        print (\"epoch: %03d/%03d  ,  cost: %.6f  ,  train_img_acc: %.3f\" \\\n",
    "               % (epoch, training_epochs, avg_cost, train_img_acc))\n",
    "\n",
    "print (\"Training complete, Accuracy : %.6f\" \\\n",
    "        % (sess.run(accr, {x : test_img, y : test_label}),))"
   ]
  },
  {
   "cell_type": "code",
   "execution_count": null,
   "metadata": {
    "collapsed": true
   },
   "outputs": [],
   "source": []
  }
 ],
 "metadata": {
  "kernelspec": {
   "display_name": "Python 2",
   "language": "python",
   "name": "python2"
  },
  "language_info": {
   "codemirror_mode": {
    "name": "ipython",
    "version": 2
   },
   "file_extension": ".py",
   "mimetype": "text/x-python",
   "name": "python",
   "nbconvert_exporter": "python",
   "pygments_lexer": "ipython2",
   "version": "2.7.11+"
  }
 },
 "nbformat": 4,
 "nbformat_minor": 0
}
