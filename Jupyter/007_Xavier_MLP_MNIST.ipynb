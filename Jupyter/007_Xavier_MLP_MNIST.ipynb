{
 "cells": [
  {
   "cell_type": "code",
   "execution_count": 1,
   "metadata": {
    "collapsed": false
   },
   "outputs": [
    {
     "name": "stdout",
     "output_type": "stream",
     "text": [
      "packages are loaded\n"
     ]
    }
   ],
   "source": [
    "#\n",
    "# Xavier Initialized MLP MNIST\n",
    "#\n",
    "# @author becxer\n",
    "# @email becxer87@gmail.com\n",
    "# @reference https://github.com/sjchoi86/Tensorflow-101\n",
    "#\n",
    "\n",
    "import numpy as np\n",
    "import tensorflow as tf\n",
    "import matplotlib.pyplot as plt\n",
    "%matplotlib inline  \n",
    "\n",
    "print (\"packages are loaded\")"
   ]
  },
  {
   "cell_type": "code",
   "execution_count": 2,
   "metadata": {
    "collapsed": false
   },
   "outputs": [
    {
     "name": "stdout",
     "output_type": "stream",
     "text": [
      "Extracting images/MNIST/train-images-idx3-ubyte.gz\n",
      "Extracting images/MNIST/train-labels-idx1-ubyte.gz\n",
      "Extracting images/MNIST/t10k-images-idx3-ubyte.gz\n",
      "Extracting images/MNIST/t10k-labels-idx1-ubyte.gz\n"
     ]
    }
   ],
   "source": [
    "# Get MNIST data set from tensorflow\n",
    "from tensorflow.examples.tutorials.mnist import input_data\n",
    "mnist_set = input_data.read_data_sets('images/MNIST/', one_hot = True)\n",
    "\n",
    "train_img = mnist_set.train.images\n",
    "train_label = mnist_set.train.labels\n",
    "test_img = mnist_set.test.images\n",
    "test_label = mnist_set.test.labels"
   ]
  },
  {
   "cell_type": "code",
   "execution_count": 3,
   "metadata": {
    "collapsed": true
   },
   "outputs": [],
   "source": [
    "# Options for training\n",
    "learning_rate = 0.001\n",
    "training_epochs = 50\n",
    "batch_size = 100\n",
    "display_step = 10\n",
    "\n",
    "# Options for Hidden Network Nodes\n",
    "n_hidden = [256, 256, 256, 256] # hidden layer's node count\n",
    "w_dev = 0.1\n",
    "drop_out_ratio = 0.7"
   ]
  },
  {
   "cell_type": "code",
   "execution_count": 4,
   "metadata": {
    "collapsed": true
   },
   "outputs": [],
   "source": [
    "# Xavier Initializer\n",
    "def xavier_initializer(input_size, output_size, uniform=True):\n",
    "    if uniform:\n",
    "        mx = tf.sqrt(6.0/(input_size + output_size))\n",
    "        return tf.random_uniform_initializer(-mx,mx)\n",
    "    else:\n",
    "        mx = tf.sqrt(3.0/(input_size + output_size))\n",
    "        return tf.truncated_normal_initializer(stddev=mx)"
   ]
  },
  {
   "cell_type": "code",
   "execution_count": 5,
   "metadata": {
    "collapsed": false
   },
   "outputs": [
    {
     "name": "stdout",
     "output_type": "stream",
     "text": [
      "Graph build\n"
     ]
    }
   ],
   "source": [
    "# Build Graph of Xavier Initialized MLP\n",
    "\n",
    "# Define placeholder & Variables\n",
    "x = tf.placeholder(\"float\", [None, train_img.shape[1]])\n",
    "y = tf.placeholder(\"float\", [None, train_label.shape[1]])\n",
    "drop_out_prob = tf.placeholder(\"float\")\n",
    "\n",
    "def one_layer(_x, _W, _b, _dop):\n",
    "    return tf.nn.dropout(tf.nn.relu(tf.add(tf.matmul(_x, _W),_b)),_dop)\n",
    "\n",
    "WS = {}\n",
    "BS = {}\n",
    "\n",
    "last_input_layer = x\n",
    "last_input_layer_size = train_img.shape[1]\n",
    "for idx, hl_size in enumerate(n_hidden):\n",
    "    _W = tf.get_variable(\\\n",
    "                         'h_'+str(idx), shape=[last_input_layer_size, hl_size],\\\n",
    "                         initializer=xavier_initializer(last_input_layer_size, hl_size))\n",
    "    _b = tf.Variable(tf.random_normal([hl_size])) \n",
    "    \n",
    "    last_input_layer = one_layer(last_input_layer, _W, _b, drop_out_prob)\n",
    "    last_input_layer_size = hl_size\n",
    "    \n",
    "    WS['h_' + str(idx)] = _W\n",
    "    BS['b_' + str(idx)] = _b\n",
    "\n",
    "    \n",
    "WS['out'] = tf.get_variable(\\\n",
    "                            'out', shape=[last_input_layer_size, train_label.shape[1]],\\\n",
    "                            initializer=xavier_initializer(last_input_layer_size, train_label.shape[1]))\n",
    "BS['out'] = tf.Variable(tf.random_normal([train_label.shape[1]], stddev=w_dev))\n",
    "\n",
    "# Define operators\n",
    "\n",
    "out = one_layer(last_input_layer, WS['out'], BS['out'], 1.0)\n",
    "\n",
    "cost = tf.reduce_mean(tf.nn.softmax_cross_entropy_with_logits(out, y))\n",
    "optm = tf.train.AdamOptimizer(learning_rate=learning_rate).minimize(cost)\n",
    "\n",
    "pred = tf.argmax(out, 1)\n",
    "accr = tf.reduce_mean(tf.cast(tf.equal(pred, tf.argmax(y, 1)),\"float\"))\n",
    "\n",
    "init = tf.initialize_all_variables()\n",
    "print (\"Graph build\")"
   ]
  },
  {
   "cell_type": "code",
   "execution_count": 6,
   "metadata": {
    "collapsed": false
   },
   "outputs": [
    {
     "name": "stdout",
     "output_type": "stream",
     "text": [
      "epoch: 000/050  ,  cost: 1.904273  ,  train_img_acc: 0.700\n",
      "epoch: 010/050  ,  cost: 0.029600  ,  train_img_acc: 0.990\n",
      "epoch: 020/050  ,  cost: 0.012155  ,  train_img_acc: 1.000\n",
      "epoch: 030/050  ,  cost: 0.007493  ,  train_img_acc: 1.000\n",
      "epoch: 040/050  ,  cost: 0.004715  ,  train_img_acc: 1.000\n",
      "Training complete, Accuracy : 0.981600\n"
     ]
    }
   ],
   "source": [
    "# Training Graph\n",
    "sess = tf.Session()\n",
    "sess.run(init)\n",
    "\n",
    "for epoch in range(training_epochs):\n",
    "    avg_cost = 0.\n",
    "    num_batch = int(train_img.shape[0]/batch_size)\n",
    "    for i in range(num_batch):\n",
    "        randidx = np.random.randint(train_img.shape[0], size=batch_size)\n",
    "        batch_xs = train_img[randidx, :]\n",
    "        batch_ys = train_label[randidx, :]                \n",
    "            \n",
    "        sess.run(optm, feed_dict={x: batch_xs, y: batch_ys, drop_out_prob : drop_out_ratio})\n",
    "        avg_cost += sess.run(cost, feed_dict={x: batch_xs, y: batch_ys, drop_out_prob : 1.})/num_batch\n",
    "            \n",
    "    if epoch % display_step == 0:\n",
    "        train_img_acc = sess.run(accr , ({x: batch_xs, y: batch_ys, drop_out_prob : 1.}))\n",
    "        print (\"epoch: %03d/%03d  ,  cost: %.6f  ,  train_img_acc: %.3f\" \\\n",
    "               % (epoch, training_epochs, avg_cost, train_img_acc))\n",
    "\n",
    "print (\"Training complete, Accuracy : %.6f\" \\\n",
    "        % (sess.run(accr, {x : test_img, y : test_label, drop_out_prob : 1.}),))"
   ]
  },
  {
   "cell_type": "code",
   "execution_count": null,
   "metadata": {
    "collapsed": true
   },
   "outputs": [],
   "source": []
  }
 ],
 "metadata": {
  "kernelspec": {
   "display_name": "Python 2",
   "language": "python",
   "name": "python2"
  },
  "language_info": {
   "codemirror_mode": {
    "name": "ipython",
    "version": 2
   },
   "file_extension": ".py",
   "mimetype": "text/x-python",
   "name": "python",
   "nbconvert_exporter": "python",
   "pygments_lexer": "ipython2",
   "version": "2.7.11+"
  }
 },
 "nbformat": 4,
 "nbformat_minor": 0
}
