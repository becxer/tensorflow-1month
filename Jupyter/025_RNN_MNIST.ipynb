{
 "cells": [
  {
   "cell_type": "code",
   "execution_count": 1,
   "metadata": {
    "collapsed": false
   },
   "outputs": [
    {
     "name": "stdout",
     "output_type": "stream",
     "text": [
      "packages are loaded\n"
     ]
    }
   ],
   "source": [
    "#\n",
    "# Recurrent Neural Network MNIST\n",
    "#\n",
    "# @author becxer\n",
    "# @email becxer87@gmail.com\n",
    "# @reference https://github.com/sjchoi86/Tensorflow-101\n",
    "#\n",
    "\n",
    "import numpy as np\n",
    "import tensorflow as tf\n",
    "import matplotlib.pyplot as plt\n",
    "%matplotlib inline  \n",
    "\n",
    "print (\"packages are loaded\")"
   ]
  },
  {
   "cell_type": "code",
   "execution_count": 2,
   "metadata": {
    "collapsed": false
   },
   "outputs": [
    {
     "name": "stdout",
     "output_type": "stream",
     "text": [
      "Extracting images/MNIST/train-images-idx3-ubyte.gz\n",
      "Extracting images/MNIST/train-labels-idx1-ubyte.gz\n",
      "Extracting images/MNIST/t10k-images-idx3-ubyte.gz\n",
      "Extracting images/MNIST/t10k-labels-idx1-ubyte.gz\n"
     ]
    }
   ],
   "source": [
    "# Get MNIST data set from tensorflow\n",
    "from tensorflow.examples.tutorials.mnist import input_data\n",
    "mnist_set = input_data.read_data_sets('images/MNIST', one_hot = True)\n",
    "\n",
    "train_img = mnist_set.train.images\n",
    "train_label = mnist_set.train.labels\n",
    "test_img = mnist_set.test.images\n",
    "test_label = mnist_set.test.labels"
   ]
  },
  {
   "cell_type": "code",
   "execution_count": 3,
   "metadata": {
    "collapsed": true
   },
   "outputs": [],
   "source": [
    "# Options for training\n",
    "learning_rate = 0.001\n",
    "training_epochs = 50\n",
    "batch_size = 100\n",
    "display_step = 10\n",
    "\n",
    "# Define dimensions\n",
    "input_dimen = 28\n",
    "hidden_dimen = 128\n",
    "output_dimen = 10\n",
    "\n",
    "rstep = 28 # 28 * 28 to 28 steps for 28"
   ]
  },
  {
   "cell_type": "code",
   "execution_count": 4,
   "metadata": {
    "collapsed": false
   },
   "outputs": [
    {
     "name": "stderr",
     "output_type": "stream",
     "text": [
      "WARNING:tensorflow:<tensorflow.python.ops.rnn_cell.BasicLSTMCell object at 0x7fbcc2e17390>: Using a concatenated state is slower and will soon be deprecated.  Use state_is_tuple=True.\n"
     ]
    },
    {
     "name": "stdout",
     "output_type": "stream",
     "text": [
      "Graph build\n"
     ]
    }
   ],
   "source": [
    "# Build Graph of Recurrent Neural Network\n",
    "\n",
    "WS = {\n",
    "    'hidden' : tf.Variable(tf.random_normal([input_dimen, hidden_dimen])),\n",
    "    'out' : tf.Variable(tf.random_normal([hidden_dimen, output_dimen]))\n",
    "}\n",
    "\n",
    "BS = {\n",
    "    'hidden' : tf.Variable(tf.random_normal([hidden_dimen])),\n",
    "    'out' : tf.Variable(tf.random_normal([output_dimen]))\n",
    "}\n",
    "\n",
    "def SimpleRNN(init_cell_state, rstep, X_, W_, B_):\n",
    "    # Change input form \n",
    "    # [batch size, height(rstep), weight(x)]  -> [rstep, batch size, x]\n",
    "    X_ = tf.transpose(X_, [1, 0, 2])\n",
    "    X_ = tf.reshape(X_,[-1, input_dimen])\n",
    "    H_ = tf.add(tf.matmul(X_, W_['hidden']), B_['hidden'])\n",
    "    H_split = tf.split(0, rstep, H_)\n",
    "    \n",
    "    #struct lstm RNN cell\n",
    "    lstm_cell = tf.nn.rnn_cell.BasicLSTMCell(hidden_dimen, forget_bias=1.0)\n",
    "    lstm_out, lstm_state = tf.nn.rnn(lstm_cell, H_split, initial_state = init_cell_state)\n",
    "    out = tf.add(tf.matmul(lstm_out[-1], W_['out']), B_['out'])\n",
    "    return {\n",
    "        'X_' : X_, 'H_' : H_, 'H_split' : H_split,\\\n",
    "        'lstm_out' : lstm_out, 'lstm_state' : lstm_state, \\\n",
    "        'out': out\n",
    "    }\n",
    "\n",
    "\n",
    "x = tf.placeholder(\"float\", [None, rstep, input_dimen])\n",
    "y = tf.placeholder(\"float\", [None, output_dimen])\n",
    "init_state = tf.placeholder(\"float\", [None, hidden_dimen * 2])\n",
    "\n",
    "rnn_res = SimpleRNN(init_state, rstep, x, WS,BS)\n",
    "out = rnn_res['out']\n",
    "\n",
    "cost = tf.reduce_mean(tf.nn.softmax_cross_entropy_with_logits(out, y))\n",
    "optm = tf.train.AdamOptimizer(learning_rate).minimize(cost)\n",
    "accr   = tf.reduce_mean(tf.cast(tf.equal(tf.argmax(out,1), tf.argmax(y,1)), tf.float32))\n",
    "init   = tf.initialize_all_variables()\n",
    "\n",
    "print (\"Graph build\")    "
   ]
  },
  {
   "cell_type": "code",
   "execution_count": 5,
   "metadata": {
    "collapsed": false
   },
   "outputs": [
    {
     "name": "stdout",
     "output_type": "stream",
     "text": [
      "epoch: 000/050  ,  cost: 0.479340  ,  train_img_acc: 0.940\n",
      "epoch: 010/050  ,  cost: 0.020915  ,  train_img_acc: 1.000\n",
      "epoch: 020/050  ,  cost: 0.007673  ,  train_img_acc: 1.000\n",
      "epoch: 030/050  ,  cost: 0.003174  ,  train_img_acc: 1.000\n",
      "epoch: 040/050  ,  cost: 0.002135  ,  train_img_acc: 1.000\n",
      "Training complete, Accuracy : 0.982800\n"
     ]
    }
   ],
   "source": [
    "# Training Graph\n",
    "sess = tf.Session()\n",
    "sess.run(init)\n",
    "\n",
    "for epoch in range(training_epochs):\n",
    "    avg_cost = 0.\n",
    "    num_batch = int(train_img.shape[0]/batch_size)\n",
    "    for i in range(num_batch):\n",
    "        randidx = np.random.randint(train_img.shape[0], size=batch_size)\n",
    "        batch_xs = np.reshape(train_img[randidx, :], (batch_size, rstep, input_dimen))\n",
    "        batch_ys = train_label[randidx, :]                \n",
    "        batch_init_state = np.zeros((batch_size, hidden_dimen * 2))\n",
    "        \n",
    "        sess.run(optm, feed_dict={x: batch_xs, y: batch_ys, init_state : batch_init_state})\n",
    "        avg_cost += sess.run(cost, feed_dict={x: batch_xs, y: batch_ys,  init_state : batch_init_state})/num_batch\n",
    "            \n",
    "    if epoch % display_step == 0:\n",
    "        train_img_acc = sess.run(accr , ({x: batch_xs, y: batch_ys, init_state : batch_init_state}))\n",
    "        print (\"epoch: %03d/%03d  ,  cost: %.6f  ,  train_img_acc: %.3f\" \\\n",
    "               % (epoch, training_epochs, avg_cost, train_img_acc))\n",
    "\n",
    "avg_acc = 0.\n",
    "test_batch_size = 10\n",
    "num_batch_test = int(test_img.shape[0]/test_batch_size)\n",
    "for i in range(num_batch_test):\n",
    "    batch_xs_test = np.reshape(test_img[i * test_batch_size : (i+1) * test_batch_size ], (test_batch_size, rstep, input_dimen))\n",
    "    batch_ys_test = test_label[i * test_batch_size : (i+1) * test_batch_size ] \n",
    "    batch_init_state = np.zeros((test_batch_size, hidden_dimen * 2))\n",
    "    avg_acc += sess.run(accr, feed_dict={x : batch_xs_test, y : batch_ys_test, init_state : batch_init_state})\n",
    "    \n",
    "print (\"Training complete, Accuracy : %.6f\" \\\n",
    "       % (avg_acc / num_batch_test,))"
   ]
  },
  {
   "cell_type": "code",
   "execution_count": null,
   "metadata": {
    "collapsed": true
   },
   "outputs": [],
   "source": []
  }
 ],
 "metadata": {
  "kernelspec": {
   "display_name": "Python 2",
   "language": "python",
   "name": "python2"
  },
  "language_info": {
   "codemirror_mode": {
    "name": "ipython",
    "version": 2
   },
   "file_extension": ".py",
   "mimetype": "text/x-python",
   "name": "python",
   "nbconvert_exporter": "python",
   "pygments_lexer": "ipython2",
   "version": "2.7.11+"
  }
 },
 "nbformat": 4,
 "nbformat_minor": 0
}
