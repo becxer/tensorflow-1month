{
 "cells": [
  {
   "cell_type": "code",
   "execution_count": 3,
   "metadata": {
    "collapsed": false
   },
   "outputs": [
    {
     "name": "stdout",
     "output_type": "stream",
     "text": [
      "tf load complete\n"
     ]
    }
   ],
   "source": [
    "#\n",
    "# RandomBatch MNIST\n",
    "#\n",
    "# @author becxer\n",
    "# @email becxer87@gmail.com\n",
    "# @reference https://github.com/sjchoi86/Tensorflow-101\n",
    "#\n",
    "\n",
    "import numpy as np\n",
    "import tensorflow as tf\n",
    "import matplotlib.pyplot as plt\n",
    "%matplotlib inline  \n",
    "\n",
    "print (\"packages are loaded\")"
   ]
  },
  {
   "cell_type": "code",
   "execution_count": 5,
   "metadata": {
    "collapsed": false
   },
   "outputs": [
    {
     "name": "stdout",
     "output_type": "stream",
     "text": [
      "Extracting mnist/train-images-idx3-ubyte.gz\n",
      "Extracting mnist/train-labels-idx1-ubyte.gz\n",
      "Extracting mnist/t10k-images-idx3-ubyte.gz\n",
      "Extracting mnist/t10k-labels-idx1-ubyte.gz\n"
     ]
    }
   ],
   "source": [
    "# Get MNIST data set from tensorflow\n",
    "from tensorflow.examples.tutorials.mnist import input_data\n",
    "mnist_set = input_data.read_data_sets('images/MNIST/', one_hot = True)\n",
    "\n",
    "train_img = mnist_set.train.images\n",
    "train_label = mnist_set.train.labels\n",
    "test_img = mnist_set.test.images\n",
    "test_label = mnist_set.test.labels"
   ]
  },
  {
   "cell_type": "code",
   "execution_count": 12,
   "metadata": {
    "collapsed": false
   },
   "outputs": [
    {
     "name": "stdout",
     "output_type": "stream",
     "text": [
      "index of batch set : [27165 10560 41056 18492 29987  5191 33127 30626 29284 37670 43738 43385\n",
      "   731 36434 26622 17851  1974 51694 51372 52150  2199 51662 13402  3694\n",
      " 44702 17069 26719 30215 29784  4738 11586  7768 21128 41109  8405   187\n",
      " 23059 28633 11879 15232  7086 32784  2213 46927 48422 32186 38692 26877\n",
      " 50553 48250 29605 50410 18547 52944 51759  2019 32834 29316 53384 53108\n",
      " 33579  3232 51078  3899 49272 19756  6330 50856 34082  9058 42090 15219\n",
      " 13620 27590  4786  7323  8997 18444 15133 11739 16064  4709 52080 31467\n",
      " 54465 37864 15696 11618 33836 15063 23279 10290 41882 23724 53162 41859\n",
      " 22719 53565  9304 54043]\n",
      "\n",
      "batch_x.shape : (100, 784)\n",
      "batch_y.shape : (100, 10)\n"
     ]
    }
   ],
   "source": [
    "# Get random sample of train data with batch size\n",
    "\n",
    "batch_size = 100\n",
    "\n",
    "rand_idx = np.random.randint(train_img.shape[0], size = batch_size)\n",
    "print (\"index of batch set : \" + str(rand_idx))\n",
    "print\n",
    "\n",
    "batch_x = train_img[rand_idx, : ]\n",
    "batch_y = train_label[rand_idx, :]\n",
    "print (\"batch_x.shape : %s\" % str(batch_x.shape))\n",
    "print (\"batch_y.shape : %s\" % str(batch_y.shape))"
   ]
  }
 ],
 "metadata": {
  "kernelspec": {
   "display_name": "Python 2",
   "language": "python",
   "name": "python2"
  },
  "language_info": {
   "codemirror_mode": {
    "name": "ipython",
    "version": 2
   },
   "file_extension": ".py",
   "mimetype": "text/x-python",
   "name": "python",
   "nbconvert_exporter": "python",
   "pygments_lexer": "ipython2",
   "version": "2.7.11+"
  }
 },
 "nbformat": 4,
 "nbformat_minor": 0
}
