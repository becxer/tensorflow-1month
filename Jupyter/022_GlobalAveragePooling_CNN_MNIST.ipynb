{
 "cells": [
  {
   "cell_type": "code",
   "execution_count": 1,
   "metadata": {
    "collapsed": false
   },
   "outputs": [
    {
     "name": "stdout",
     "output_type": "stream",
     "text": [
      "packages are loaded\n"
     ]
    }
   ],
   "source": [
    "#\n",
    "# Weakly supervised learning,\n",
    "# CNN-GlobalAveragePooling MNIST\n",
    "#\n",
    "# @author becxer\n",
    "# @email becxer87@gmail.com\n",
    "# @reference https://github.com/sjchoi86/Tensorflow-101\n",
    "#\n",
    "\n",
    "import numpy as np\n",
    "import tensorflow as tf\n",
    "import matplotlib.pyplot as plt\n",
    "%matplotlib inline  \n",
    "\n",
    "print (\"packages are loaded\")"
   ]
  },
  {
   "cell_type": "code",
   "execution_count": 2,
   "metadata": {
    "collapsed": false
   },
   "outputs": [
    {
     "name": "stdout",
     "output_type": "stream",
     "text": [
      "Extracting mnist/train-images-idx3-ubyte.gz\n",
      "Extracting mnist/train-labels-idx1-ubyte.gz\n",
      "Extracting mnist/t10k-images-idx3-ubyte.gz\n",
      "Extracting mnist/t10k-labels-idx1-ubyte.gz\n"
     ]
    }
   ],
   "source": [
    "# Get MNIST data set from tensorflow\n",
    "from tensorflow.examples.tutorials.mnist import input_data\n",
    "mnist_set = input_data.read_data_sets('images/MNIST/', one_hot = True)\n",
    "\n",
    "train_img = mnist_set.train.images\n",
    "train_label = mnist_set.train.labels\n",
    "test_img = mnist_set.test.images\n",
    "test_label = mnist_set.test.labels"
   ]
  },
  {
   "cell_type": "code",
   "execution_count": 4,
   "metadata": {
    "collapsed": true
   },
   "outputs": [],
   "source": [
    "# Options for training\n",
    "learning_rate = 0.001\n",
    "training_epochs = 100\n",
    "batch_size = 100\n",
    "display_step = 10\n",
    "\n",
    "# Deviation of weights\n",
    "w_dev = 0.1\n",
    "\n",
    "# Options for dropout\n",
    "drop_out_ratio = 0.7"
   ]
  },
  {
   "cell_type": "code",
   "execution_count": 28,
   "metadata": {
    "collapsed": false
   },
   "outputs": [
    {
     "name": "stdout",
     "output_type": "stream",
     "text": [
      "Graph build\n"
     ]
    }
   ],
   "source": [
    "# Build CNN-GlobalAveragePooling graph\n",
    "\n",
    "WS = {\n",
    "    'wc_1' : tf.Variable(tf.random_normal([3,3,1,64], stddev=w_dev)),\n",
    "    'wc_2' : tf.Variable(tf.random_normal([3,3,64,128], stddev=w_dev)),\n",
    "    'out'  : tf.Variable(tf.random_normal([128,10],stddev=w_dev))\n",
    "}\n",
    "\n",
    "BS = {\n",
    "    'bc_1' : tf.Variable(tf.random_normal([64], stddev=w_dev)),\n",
    "    'bc_2' : tf.Variable(tf.random_normal([128], stddev=w_dev)),\n",
    "    'out' : tf.Variable(tf.random_normal([10], stddev=w_dev))\n",
    "}\n",
    "\n",
    "def CNN_GAP(_X,  _W, _B, _dop):\n",
    "    _X = tf.reshape(_X, [-1,28,28,1])\n",
    "    \n",
    "    _conv1 = tf.nn.relu(tf.nn.bias_add(tf.nn.conv2d(_X,_W['wc_1'], strides=[1,1,1,1], padding=\"SAME\"),_B['bc_1']))\n",
    "    _max_pool1 = tf.nn.max_pool(_conv1, ksize=[1,2,2,1], strides=[1,2,2,1], padding=\"SAME\")\n",
    "    _do1 = tf.nn.dropout(_max_pool1, _dop)\n",
    "    \n",
    "    _gap_conv = tf.nn.relu(tf.nn.bias_add(tf.nn.conv2d(_do1,_W['wc_2'], strides=[1,1,1,1], padding=\"SAME\"),_B['bc_2']))\n",
    "    _gap_pool = tf.nn.avg_pool(_gap_conv, ksize=[1,14,14,1], strides=[1,14,14,1], padding=\"SAME\")\n",
    "    _do2 = tf.nn.dropout(_gap_pool, _dop)\n",
    "    \n",
    "    _do2_r = tf.reshape(_do2, [-1,128])\n",
    "    _out = tf.nn.softmax(tf.add(tf.matmul(_do2_r,_W['out']),_B['out']))\n",
    "    return { 'gap':_gap_conv, 'out':_out }\n",
    "\n",
    "\n",
    "x = tf.placeholder(\"float\", [None, train_img.shape[1]])\n",
    "y = tf.placeholder(\"float\", [None, train_label.shape[1]])\n",
    "drop_out_prob = tf.placeholder(\"float\")\n",
    "\n",
    "res = CNN_GAP(x, WS, BS, drop_out_prob)\n",
    "\n",
    "out = res['out']\n",
    "gap = res['gap']\n",
    "\n",
    "cost = tf.reduce_mean(tf.nn.softmax_cross_entropy_with_logits(out, y))\n",
    "optm = tf.train.AdamOptimizer(learning_rate=learning_rate).minimize(cost)\n",
    "\n",
    "pred = tf.argmax(out, 1)\n",
    "accr = tf.reduce_mean(tf.cast(tf.equal(pred, tf.argmax(y, 1)),\"float\"))\n",
    "\n",
    "init = tf.initialize_all_variables()\n",
    "print (\"Graph build\")"
   ]
  },
  {
   "cell_type": "code",
   "execution_count": 29,
   "metadata": {
    "collapsed": false
   },
   "outputs": [
    {
     "name": "stdout",
     "output_type": "stream",
     "text": [
      "epoch: 000/100  ,  cost: 2.138162  ,  train_img_acc: 0.480\n",
      "epoch: 010/100  ,  cost: 1.636775  ,  train_img_acc: 0.900\n",
      "epoch: 020/100  ,  cost: 1.599038  ,  train_img_acc: 0.850\n",
      "epoch: 030/100  ,  cost: 1.498543  ,  train_img_acc: 0.980\n",
      "epoch: 040/100  ,  cost: 1.491470  ,  train_img_acc: 0.940\n",
      "epoch: 050/100  ,  cost: 1.487630  ,  train_img_acc: 0.950\n",
      "epoch: 060/100  ,  cost: 1.485064  ,  train_img_acc: 0.950\n",
      "epoch: 070/100  ,  cost: 1.481660  ,  train_img_acc: 1.000\n",
      "epoch: 080/100  ,  cost: 1.480129  ,  train_img_acc: 0.960\n",
      "epoch: 090/100  ,  cost: 1.478415  ,  train_img_acc: 0.980\n",
      "Training complete, Accuracy : 0.983000\n"
     ]
    }
   ],
   "source": [
    "# Training Graph\n",
    "sess = tf.Session()\n",
    "sess.run(init)\n",
    "\n",
    "for epoch in range(training_epochs):\n",
    "    avg_cost = 0.\n",
    "    num_batch = int(train_img.shape[0]/batch_size)\n",
    "    for i in range(num_batch):\n",
    "        randidx = np.random.randint(train_img.shape[0], size=batch_size)\n",
    "        batch_xs = train_img[randidx, :]\n",
    "        batch_ys = train_label[randidx, :]                \n",
    "            \n",
    "        sess.run(optm, feed_dict={x: batch_xs, y: batch_ys, drop_out_prob : drop_out_ratio})\n",
    "        avg_cost += sess.run(cost, feed_dict={x: batch_xs, y: batch_ys, drop_out_prob : 1.})/num_batch\n",
    "            \n",
    "    if epoch % display_step == 0:\n",
    "        train_img_acc = sess.run(accr , ({x: batch_xs, y: batch_ys, drop_out_prob : 1.}))\n",
    "        print (\"epoch: %03d/%03d  ,  cost: %.6f  ,  train_img_acc: %.3f\" \\\n",
    "               % (epoch, training_epochs, avg_cost, train_img_acc))\n",
    "\n",
    "avg_acc = 0.\n",
    "num_batch_test = int(test_img.shape[0]/batch_size)\n",
    "for i in range(num_batch_test):\n",
    "    batch_xs_test = test_img[i * batch_size : (i+1) * batch_size ]\n",
    "    batch_ys_test = test_label[i * batch_size : (i+1) * batch_size ]            \n",
    "    avg_acc += sess.run(accr, feed_dict={x : batch_xs_test, y : batch_ys_test, drop_out_prob : 1.})\n",
    "    \n",
    "print (\"Training complete, Accuracy : %.6f\" \\\n",
    "       % (avg_acc / num_batch_test,))"
   ]
  },
  {
   "cell_type": "code",
   "execution_count": 40,
   "metadata": {
    "collapsed": false
   },
   "outputs": [
    {
     "name": "stderr",
     "output_type": "stream",
     "text": [
      "/usr/local/lib/python2.7/dist-packages/ipykernel/__main__.py:5: VisibleDeprecationWarning: converting an array with ndim > 0 to an index will result in an error in the future\n"
     ]
    },
    {
     "data": {
      "image/png": "[encoded data removed]",
      "text/plain": [
       "<matplotlib.figure.Figure at 0x7f499cd1fc90>"
      ]
     },
     "metadata": {},
     "output_type": "display_data"
    },
    {
     "data": {
      "image/png": "[encoded data removed]",
      "text/plain": [
       "<matplotlib.figure.Figure at 0x7f499d51f0d0>"
      ]
     },
     "metadata": {},
     "output_type": "display_data"
    }
   ],
   "source": [
    "# Observe Nested GAP feature \n",
    "rdx = np.random.randint(test_img.shape[0], size=1)\n",
    "\n",
    "test_x = test_img[rdx,:]\n",
    "test_y = test_label[rdx:]\n",
    "\n",
    "test_pred = sess.run(pred,feed_dict={x:test_x,drop_out_prob:1.})\n",
    "test_out = sess.run(out,feed_dict={x:test_x,drop_out_prob:1.})\n",
    "test_gap = sess.run(gap,feed_dict={x:test_x,drop_out_prob:1.})\n",
    "test_w = sess.run(WS['out'])\n",
    "\n",
    "plt.matshow(np.reshape(test_x,[28,28]), cmap=plt.get_cmap('gray'))\n",
    "plt.title(\"predicted : \" + str(test_pred))\n",
    "plt.colorbar()\n",
    "plt.show()\n",
    "    \n",
    "fig, axs = plt.subplots(2, 5, figsize=(15, 6))    \n",
    "for i in range(10):\n",
    "    each_gap_w = test_w[:, i:i+1]\n",
    "    gap_sum = np.zeros((14, 14))\n",
    "    for j in range(128):\n",
    "        gap_sum = gap_sum + each_gap_w[j]*test_gap[0, :, :, j]\n",
    "    gap_avg = gap_sum / 128\n",
    "    im = axs[int(i/5)][i%5].matshow(gap_avg, cmap=plt.get_cmap('gray'))\n",
    "    axs[int(i/5)][i%5].set_title((\"[%d] prob is %.3f\") % (i, test_out[0, i]))\n",
    "\n",
    "plt.draw()"
   ]
  }
 ],
 "metadata": {
  "kernelspec": {
   "display_name": "Python 2",
   "language": "python",
   "name": "python2"
  },
  "language_info": {
   "codemirror_mode": {
    "name": "ipython",
    "version": 2
   },
   "file_extension": ".py",
   "mimetype": "text/x-python",
   "name": "python",
   "nbconvert_exporter": "python",
   "pygments_lexer": "ipython2",
   "version": "2.7.11+"
  }
 },
 "nbformat": 4,
 "nbformat_minor": 0
}
