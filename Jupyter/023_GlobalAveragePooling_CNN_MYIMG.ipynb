{
 "cells": [
  {
   "cell_type": "code",
   "execution_count": 1,
   "metadata": {
    "collapsed": false
   },
   "outputs": [
    {
     "name": "stdout",
     "output_type": "stream",
     "text": [
      "packages are loaded\n"
     ]
    }
   ],
   "source": [
    "#\n",
    "# Weakly supervised learning,\n",
    "# CNN-GlobalAveragePooling MYIMG\n",
    "#\n",
    "# @author becxer\n",
    "# @email becxer87@gmail.com\n",
    "# @reference https://github.com/sjchoi86/Tensorflow-101\n",
    "#\n",
    "\n",
    "import numpy as np\n",
    "import tensorflow as tf\n",
    "import matplotlib.pyplot as plt\n",
    "%matplotlib inline  \n",
    "\n",
    "print (\"packages are loaded\")"
   ]
  },
  {
   "cell_type": "code",
   "execution_count": 2,
   "metadata": {
    "collapsed": false
   },
   "outputs": [
    {
     "name": "stdout",
     "output_type": "stream",
     "text": [
      "Load data : ['valid_img', 'train_img', 'test_img', 'train_label', 'test_label', 'valid_label']\n",
      "train_img shape : (876, 4096)\n",
      "valid_img shape : (109, 4096)\n",
      "test_img shape : (111, 4096)\n"
     ]
    }
   ],
   "source": [
    "# Load npz data\n",
    "npz_path = \"images/MYIMG/my_img.npz\"\n",
    "\n",
    "load_data = np.load(npz_path)\n",
    "print (\"Load data : \" + str(load_data.files))\n",
    "\n",
    "train_img = load_data['train_img']\n",
    "train_label = load_data['train_label']\n",
    "valid_img = load_data['valid_img']\n",
    "valid_label = load_data['valid_label']\n",
    "test_img = load_data['test_img']\n",
    "test_label = load_data['test_label']\n",
    "\n",
    "print (\"train_img shape : \"  + str(train_img.shape))\n",
    "print (\"valid_img shape : \"  + str(valid_img.shape))\n",
    "print (\"test_img shape : \"  + str(test_img.shape))"
   ]
  },
  {
   "cell_type": "code",
   "execution_count": 25,
   "metadata": {
    "collapsed": true
   },
   "outputs": [],
   "source": [
    "# Options for training\n",
    "learning_rate = 0.01\n",
    "training_epochs = 1000\n",
    "batch_size = 100\n",
    "display_step = 50\n",
    "\n",
    "# Deviation of weights\n",
    "w_dev = 0.1\n",
    "\n",
    "# Options for dropout\n",
    "drop_out_ratio = 0.7"
   ]
  },
  {
   "cell_type": "code",
   "execution_count": 6,
   "metadata": {
    "collapsed": false
   },
   "outputs": [
    {
     "name": "stdout",
     "output_type": "stream",
     "text": [
      "Graph build\n"
     ]
    }
   ],
   "source": [
    "# Build CNN-GlobalAveragePooling graph\n",
    "\n",
    "WS = {\n",
    "    'wc_1' : tf.Variable(tf.random_normal([3,3,1,64], stddev=w_dev)),\n",
    "    'wc_2' : tf.Variable(tf.random_normal([3,3,64,128], stddev=w_dev)),\n",
    "    'out'  : tf.Variable(tf.random_normal([128,3],stddev=w_dev))\n",
    "}\n",
    "\n",
    "BS = {\n",
    "    'bc_1' : tf.Variable(tf.random_normal([64], stddev=w_dev)),\n",
    "    'bc_2' : tf.Variable(tf.random_normal([128], stddev=w_dev)),\n",
    "    'out' : tf.Variable(tf.random_normal([3], stddev=w_dev))\n",
    "}\n",
    "\n",
    "def CNN_GAP(_X,  _W, _B, _dop):\n",
    "    _X = tf.reshape(_X, [-1,64,64,1])\n",
    "    \n",
    "    _conv1 = tf.nn.relu(tf.nn.bias_add(tf.nn.conv2d(_X,_W['wc_1'], strides=[1,1,1,1], padding=\"SAME\"),_B['bc_1']))\n",
    "    _max_pool1 = tf.nn.max_pool(_conv1, ksize=[1,2,2,1], strides=[1,2,2,1], padding=\"SAME\")\n",
    "    _do1 = tf.nn.dropout(_max_pool1, _dop)\n",
    "    \n",
    "    _gap_conv = tf.nn.relu(tf.nn.bias_add(tf.nn.conv2d(_do1,_W['wc_2'], strides=[1,1,1,1], padding=\"SAME\"),_B['bc_2']))\n",
    "    _gap_pool = tf.nn.avg_pool(_gap_conv, ksize=[1,32,32,1], strides=[1,32,32,1], padding=\"SAME\")\n",
    "    _do2 = tf.nn.dropout(_gap_pool, _dop)\n",
    "    \n",
    "    _do2_r = tf.reshape(_do2, [-1,128])\n",
    "    _out = tf.nn.softmax(tf.add(tf.matmul(_do2_r,_W['out']),_B['out']))\n",
    "    return { 'gap':_gap_conv, 'out':_out }\n",
    "\n",
    "\n",
    "x = tf.placeholder(\"float\", [None, train_img.shape[1]])\n",
    "y = tf.placeholder(\"float\", [None, train_label.shape[1]])\n",
    "drop_out_prob = tf.placeholder(\"float\")\n",
    "\n",
    "res = CNN_GAP(x, WS, BS, drop_out_prob)\n",
    "\n",
    "out = res['out']\n",
    "gap = res['gap']\n",
    "\n",
    "cost = tf.reduce_mean(tf.nn.softmax_cross_entropy_with_logits(out, y))\n",
    "optm = tf.train.AdamOptimizer(learning_rate=learning_rate).minimize(cost)\n",
    "\n",
    "pred = tf.argmax(out, 1)\n",
    "accr = tf.reduce_mean(tf.cast(tf.equal(pred, tf.argmax(y, 1)),\"float\"))\n",
    "\n",
    "init = tf.initialize_all_variables()\n",
    "print (\"Graph build\")"
   ]
  },
  {
   "cell_type": "code",
   "execution_count": 26,
   "metadata": {
    "collapsed": false
   },
   "outputs": [
    {
     "name": "stdout",
     "output_type": "stream",
     "text": [
      "epoch: 000/1000  ,  cost: 1.092647  ,  train_img_acc: 0.290\n",
      "epoch: 050/1000  ,  cost: 0.997318  ,  train_img_acc: 0.500\n",
      "epoch: 100/1000  ,  cost: 0.947710  ,  train_img_acc: 0.550\n",
      "epoch: 150/1000  ,  cost: 0.906735  ,  train_img_acc: 0.660\n",
      "epoch: 200/1000  ,  cost: 0.891393  ,  train_img_acc: 0.590\n",
      "epoch: 250/1000  ,  cost: 0.844713  ,  train_img_acc: 0.740\n",
      "epoch: 300/1000  ,  cost: 0.851490  ,  train_img_acc: 0.660\n",
      "epoch: 350/1000  ,  cost: 0.805141  ,  train_img_acc: 0.750\n",
      "epoch: 400/1000  ,  cost: 0.815066  ,  train_img_acc: 0.810\n",
      "epoch: 450/1000  ,  cost: 0.814492  ,  train_img_acc: 0.730\n",
      "epoch: 500/1000  ,  cost: 0.784909  ,  train_img_acc: 0.810\n",
      "epoch: 550/1000  ,  cost: 0.792225  ,  train_img_acc: 0.810\n",
      "epoch: 600/1000  ,  cost: 0.805427  ,  train_img_acc: 0.780\n",
      "epoch: 650/1000  ,  cost: 0.777481  ,  train_img_acc: 0.750\n",
      "epoch: 700/1000  ,  cost: 0.783377  ,  train_img_acc: 0.750\n",
      "epoch: 750/1000  ,  cost: 0.764566  ,  train_img_acc: 0.860\n",
      "epoch: 800/1000  ,  cost: 0.804313  ,  train_img_acc: 0.810\n",
      "epoch: 850/1000  ,  cost: 0.764274  ,  train_img_acc: 0.820\n",
      "epoch: 900/1000  ,  cost: 0.772471  ,  train_img_acc: 0.770\n",
      "epoch: 950/1000  ,  cost: 0.757670  ,  train_img_acc: 0.860\n",
      "Training complete, Accuracy : 0.780000\n"
     ]
    }
   ],
   "source": [
    "# Training Graph\n",
    "sess = tf.Session()\n",
    "sess.run(init)\n",
    "\n",
    "for epoch in range(training_epochs):\n",
    "    avg_cost = 0.\n",
    "    num_batch = int(train_img.shape[0]/batch_size)\n",
    "    for i in range(num_batch):\n",
    "        randidx = np.random.randint(train_img.shape[0], size=batch_size)\n",
    "        batch_xs = train_img[randidx, :]\n",
    "        batch_ys = train_label[randidx, :]                \n",
    "            \n",
    "        sess.run(optm, feed_dict={x: batch_xs, y: batch_ys, drop_out_prob : drop_out_ratio})\n",
    "        avg_cost += sess.run(cost, feed_dict={x: batch_xs, y: batch_ys, drop_out_prob : 1.})/num_batch\n",
    "            \n",
    "    if epoch % display_step == 0:\n",
    "        train_img_acc = sess.run(accr , ({x: batch_xs, y: batch_ys, drop_out_prob : 1.}))\n",
    "        print (\"epoch: %03d/%03d  ,  cost: %.6f  ,  train_img_acc: %.3f\" \\\n",
    "               % (epoch, training_epochs, avg_cost, train_img_acc))\n",
    "\n",
    "avg_acc = 0.\n",
    "num_batch_test = int(test_img.shape[0]/batch_size)\n",
    "for i in range(num_batch_test):\n",
    "    batch_xs_test = test_img[i * batch_size : (i+1) * batch_size ]\n",
    "    batch_ys_test = test_label[i * batch_size : (i+1) * batch_size ]            \n",
    "    avg_acc += sess.run(accr, feed_dict={x : batch_xs_test, y : batch_ys_test, drop_out_prob : 1.})\n",
    "    \n",
    "print (\"Training complete, Accuracy : %.6f\" \\\n",
    "       % (avg_acc / num_batch_test,))"
   ]
  },
  {
   "cell_type": "code",
   "execution_count": 33,
   "metadata": {
    "collapsed": false
   },
   "outputs": [
    {
     "name": "stderr",
     "output_type": "stream",
     "text": [
      "/usr/local/lib/python2.7/dist-packages/ipykernel/__main__.py:5: VisibleDeprecationWarning: converting an array with ndim > 0 to an index will result in an error in the future\n",
      "/usr/local/lib/python2.7/dist-packages/ipykernel/__main__.py:14: VisibleDeprecationWarning: converting an array with ndim > 0 to an index will result in an error in the future\n"
     ]
    },
    {
     "data": {
      "image/png": "[encoded data removed]",
      "text/plain": [
       "<matplotlib.figure.Figure at 0x7f6e9445cbd0>"
      ]
     },
     "metadata": {},
     "output_type": "display_data"
    },
    {
     "data": {
      "image/png": "[encoded data removed]",
      "text/plain": [
       "<matplotlib.figure.Figure at 0x7f6e94773810>"
      ]
     },
     "metadata": {},
     "output_type": "display_data"
    }
   ],
   "source": [
    "# Observe Nested GAP feature \n",
    "rdx = np.random.randint(test_img.shape[0], size=1)\n",
    "\n",
    "test_x = test_img[rdx,:]\n",
    "test_y = test_label[rdx:]\n",
    "\n",
    "test_pred = sess.run(pred,feed_dict={x:test_x,drop_out_prob:1.})\n",
    "test_out = sess.run(out,feed_dict={x:test_x,drop_out_prob:1.})\n",
    "test_gap = sess.run(gap,feed_dict={x:test_x,drop_out_prob:1.})\n",
    "test_w = sess.run(WS['out'])\n",
    "\n",
    "real_label = [\"bike\", \"car\", \"person\"]\n",
    "plt.matshow(np.reshape(test_x,[64,64]), cmap=plt.get_cmap('gray'))\n",
    "plt.title(\"predicted : \" + real_label[test_pred])\n",
    "plt.colorbar()\n",
    "plt.show()\n",
    "    \n",
    "fig, axs = plt.subplots(1, 3, figsize=(15, 6))    \n",
    "for i in range(3):\n",
    "    each_gap_w = test_w[:, i:i+1]\n",
    "    gap_sum = np.zeros((32, 32))\n",
    "    for j in range(128):\n",
    "        gap_sum = gap_sum + each_gap_w[j]*test_gap[0, :, :, j]\n",
    "    gap_avg = gap_sum / 128\n",
    "    im = axs[i].matshow(gap_avg, cmap=plt.get_cmap('gray'))\n",
    "    axs[i].set_title((\"[%s] prob is %.3f\") % (real_label[i], test_out[0, i]))\n",
    "\n",
    "plt.draw()"
   ]
  }
 ],
 "metadata": {
  "kernelspec": {
   "display_name": "Python 2",
   "language": "python",
   "name": "python2"
  },
  "language_info": {
   "codemirror_mode": {
    "name": "ipython",
    "version": 2
   },
   "file_extension": ".py",
   "mimetype": "text/x-python",
   "name": "python",
   "nbconvert_exporter": "python",
   "pygments_lexer": "ipython2",
   "version": "2.7.11+"
  }
 },
 "nbformat": 4,
 "nbformat_minor": 0
}
