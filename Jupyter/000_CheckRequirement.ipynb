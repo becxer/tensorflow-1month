{
 "cells": [
  {
   "cell_type": "code",
   "execution_count": 1,
   "metadata": {
    "collapsed": false
   },
   "outputs": [
    {
     "name": "stdout",
     "output_type": "stream",
     "text": [
      "packages are loaded\n"
     ]
    }
   ],
   "source": [
    "#\n",
    "# Check exercise requirement\n",
    "#\n",
    "# @author becxer\n",
    "# @email becxer87@gmail.com\n",
    "# @reference https://github.com/sjchoi86/Tensorflow-101\n",
    "#\n",
    "\n",
    "import os, sys\n",
    "from scipy.misc import imread, imresize\n",
    "import skimage.io\n",
    "import skimage.transform\n",
    "\n",
    "import numpy as np\n",
    "import tensorflow as tf\n",
    "import matplotlib.pyplot as plt\n",
    "%matplotlib inline\n",
    "\n",
    "print (\"packages are loaded\")"
   ]
  }
 ],
 "metadata": {
  "kernelspec": {
   "display_name": "Python 2",
   "language": "python",
   "name": "python2"
  },
  "language_info": {
   "codemirror_mode": {
    "name": "ipython",
    "version": 2
   },
   "file_extension": ".py",
   "mimetype": "text/x-python",
   "name": "python",
   "nbconvert_exporter": "python",
   "pygments_lexer": "ipython2",
   "version": "2.7.11+"
  }
 },
 "nbformat": 4,
 "nbformat_minor": 0
}
