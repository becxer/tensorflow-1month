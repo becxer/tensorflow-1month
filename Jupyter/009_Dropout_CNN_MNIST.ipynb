{
 "cells": [
  {
   "cell_type": "code",
   "execution_count": 1,
   "metadata": {
    "collapsed": false
   },
   "outputs": [
    {
     "name": "stdout",
     "output_type": "stream",
     "text": [
      "packages are loaded\n"
     ]
    }
   ],
   "source": [
    "#\n",
    "# Dropout Convolutional Neural Network MNIST\n",
    "#\n",
    "# @author becxer\n",
    "# @email becxer87@gmail.com\n",
    "# @reference https://github.com/sjchoi86/Tensorflow-101\n",
    "#\n",
    "\n",
    "import numpy as np\n",
    "import tensorflow as tf\n",
    "import matplotlib.pyplot as plt\n",
    "%matplotlib inline  \n",
    "\n",
    "print (\"packages are loaded\")"
   ]
  },
  {
   "cell_type": "code",
   "execution_count": 2,
   "metadata": {
    "collapsed": false
   },
   "outputs": [
    {
     "name": "stdout",
     "output_type": "stream",
     "text": [
      "Extracting mnist/train-images-idx3-ubyte.gz\n",
      "Extracting mnist/train-labels-idx1-ubyte.gz\n",
      "Extracting mnist/t10k-images-idx3-ubyte.gz\n",
      "Extracting mnist/t10k-labels-idx1-ubyte.gz\n"
     ]
    }
   ],
   "source": [
    "# Get MNIST data set from tensorflow\n",
    "from tensorflow.examples.tutorials.mnist import input_data\n",
    "mnist_set = input_data.read_data_sets('images/MNIST/', one_hot = True)\n",
    "\n",
    "train_img = mnist_set.train.images\n",
    "train_label = mnist_set.train.labels\n",
    "test_img = mnist_set.test.images\n",
    "test_label = mnist_set.test.labels"
   ]
  },
  {
   "cell_type": "code",
   "execution_count": 3,
   "metadata": {
    "collapsed": true
   },
   "outputs": [],
   "source": [
    "# Options for training\n",
    "learning_rate = 0.001\n",
    "training_epochs = 100\n",
    "batch_size = 100\n",
    "display_step = 10\n",
    "\n",
    "# Options for Convolution\n",
    "x_conv_shape =  [-1,28,28,1] # because MNIST data is oneline\n",
    "\n",
    "n_conv_shapes = [[3,3,1,64],[3,3,64,128]]\n",
    "n_conv_strides = [[1,1,1,1],[1,1,1,1]]\n",
    "n_maxp_shapes = [[1,2,2,1],[1,2,2,1]]\n",
    "n_maxp_strides = [[1,2,2,1],[1,2,2,1]]\n",
    "\n",
    "# Options for Dense layer\n",
    "x_dense_size = 7 * 7 * 128\n",
    "n_dense = [1024, 100]\n",
    "w_dev = 0.1\n",
    "\n",
    "# Options for dropout\n",
    "drop_out_ratio = 0.7"
   ]
  },
  {
   "cell_type": "code",
   "execution_count": 4,
   "metadata": {
    "collapsed": false
   },
   "outputs": [
    {
     "name": "stdout",
     "output_type": "stream",
     "text": [
      "Graph build\n"
     ]
    }
   ],
   "source": [
    "# Build Graph of Convolution Neural Network\n",
    "\n",
    "# Define placeholder & Variables\n",
    "x = tf.placeholder(\"float\", [None, train_img.shape[1]])\n",
    "y = tf.placeholder(\"float\", [None, train_label.shape[1]])\n",
    "drop_out_prob = tf.placeholder(\"float\")\n",
    "\n",
    "def one_cnn_layer(_x, _weight_C, _stride_C, _bias_C, _shape_MP, _stride_MP, _dop):\n",
    "    _conv1 = tf.nn.conv2d(_x, _weight_C, strides=_stride_C, padding='SAME')\n",
    "    _conv2 = tf.nn.batch_normalization(_conv1, 0.001, 1.0, 0, 1, 0.0001)\n",
    "    _conv3 = tf.nn.bias_add(_conv2, _bias_C)\n",
    "    _conv4 = tf.nn.relu(_conv3)\n",
    "    _pool = tf.nn.max_pool(_conv4, ksize=_shape_MP, strides=_stride_MP, padding='SAME')\n",
    "    _out = tf.nn.dropout(_pool, _dop)\n",
    "    return {'conv1':_conv1, 'conv2':_conv2, 'conv3':_conv3, 'conv4':_conv4, 'pool':_pool, 'out':_out}\n",
    "\n",
    "def one_dense_layer(_x, _W, _b, _dop):\n",
    "    return tf.nn.dropout(tf.nn.relu(tf.add(tf.matmul(_x, _W),_b)), _dop)\n",
    "\n",
    "WS = {}\n",
    "BS = {}\n",
    "\n",
    "last_input_layer = tf.reshape(x, shape = x_conv_shape)\n",
    "for idx in range(len(n_conv_shapes)):\n",
    "    _weight_C = tf.Variable(tf.random_normal(n_conv_shapes[idx], stddev=w_dev))\n",
    "    _stride_C = n_conv_strides[idx]\n",
    "    _bias_C = tf.Variable(tf.random_normal([n_conv_shapes[idx][-1]], stddev=w_dev))\n",
    "    _shape_MP = n_maxp_shapes[idx]\n",
    "    _stride_MP = n_maxp_strides[idx]\n",
    "    layer = one_cnn_layer(last_input_layer, _weight_C, _stride_C, _bias_C, _shape_MP, _stride_MP, drop_out_prob)\n",
    "    last_input_layer = layer['out']\n",
    "    WS['wc_' + str(idx)] = _weight_C\n",
    "    BS['bc_' + str(idx)] = _bias_C\n",
    "\n",
    "last_input_layer_size = x_dense_size\n",
    "last_input_layer = tf.reshape(last_input_layer, [-1, x_dense_size])\n",
    "\n",
    "for idx, hl_size in enumerate(n_dense):\n",
    "    _W = tf.Variable(tf.random_normal([last_input_layer_size, hl_size], stddev=w_dev))\n",
    "    _b = tf.Variable(tf.random_normal([hl_size])) \n",
    "    last_input_layer = one_dense_layer(last_input_layer, _W, _b, drop_out_prob)\n",
    "    last_input_layer_size = hl_size\n",
    "    WS['wd_' + str(idx)] = _W\n",
    "    BS['bd_' + str(idx)] = _b\n",
    "\n",
    "WS['out'] = tf.Variable(tf.random_normal([last_input_layer_size, train_label.shape[1]], stddev=w_dev))\n",
    "BS['out'] = tf.Variable(tf.random_normal([train_label.shape[1]], stddev=w_dev))\n",
    "\n",
    "# Define operators\n",
    "out = one_dense_layer(last_input_layer, WS['out'], BS['out'], 1.0)\n",
    "\n",
    "cost = tf.reduce_mean(tf.nn.softmax_cross_entropy_with_logits(out, y))\n",
    "optm = tf.train.AdamOptimizer(learning_rate=learning_rate).minimize(cost)\n",
    "\n",
    "pred = tf.argmax(out, 1)\n",
    "accr = tf.reduce_mean(tf.cast(tf.equal(pred, tf.argmax(y, 1)),\"float\"))\n",
    "\n",
    "init = tf.initialize_all_variables()\n",
    "print (\"Graph build\")"
   ]
  },
  {
   "cell_type": "code",
   "execution_count": 5,
   "metadata": {
    "collapsed": false
   },
   "outputs": [
    {
     "name": "stdout",
     "output_type": "stream",
     "text": [
      "epoch: 000/100  ,  cost: 0.871719  ,  train_img_acc: 1.000\n",
      "epoch: 010/100  ,  cost: 0.008190  ,  train_img_acc: 1.000\n",
      "epoch: 020/100  ,  cost: 0.002319  ,  train_img_acc: 1.000\n",
      "epoch: 030/100  ,  cost: 0.001057  ,  train_img_acc: 1.000\n",
      "epoch: 040/100  ,  cost: 0.000615  ,  train_img_acc: 1.000\n",
      "epoch: 050/100  ,  cost: 0.000132  ,  train_img_acc: 1.000\n",
      "epoch: 060/100  ,  cost: 0.000197  ,  train_img_acc: 1.000\n",
      "epoch: 070/100  ,  cost: 0.000100  ,  train_img_acc: 1.000\n",
      "epoch: 080/100  ,  cost: 0.000108  ,  train_img_acc: 1.000\n",
      "epoch: 090/100  ,  cost: 0.000136  ,  train_img_acc: 1.000\n",
      "Training complete, Accuracy : 0.992000\n"
     ]
    }
   ],
   "source": [
    "# Training Graph\n",
    "sess = tf.Session()\n",
    "sess.run(init)\n",
    "\n",
    "for epoch in range(training_epochs):\n",
    "    avg_cost = 0.\n",
    "    num_batch = int(train_img.shape[0]/batch_size)\n",
    "    for i in range(num_batch):\n",
    "        randidx = np.random.randint(train_img.shape[0], size=batch_size)\n",
    "        batch_xs = train_img[randidx, :]\n",
    "        batch_ys = train_label[randidx, :]                \n",
    "            \n",
    "        sess.run(optm, feed_dict={x: batch_xs, y: batch_ys, drop_out_prob : drop_out_ratio})\n",
    "        avg_cost += sess.run(cost, feed_dict={x: batch_xs, y: batch_ys, drop_out_prob : 1.})/num_batch\n",
    "            \n",
    "    if epoch % display_step == 0:\n",
    "        train_img_acc = sess.run(accr , ({x: batch_xs, y: batch_ys, drop_out_prob : 1.}))\n",
    "        print (\"epoch: %03d/%03d  ,  cost: %.6f  ,  train_img_acc: %.3f\" \\\n",
    "               % (epoch, training_epochs, avg_cost, train_img_acc))\n",
    "\n",
    "avg_acc = 0.\n",
    "num_batch_test = int(test_img.shape[0]/batch_size)\n",
    "for i in range(num_batch_test):\n",
    "    batch_xs_test = test_img[i * batch_size : (i+1) * batch_size ]\n",
    "    batch_ys_test = test_label[i * batch_size : (i+1) * batch_size ]            \n",
    "    avg_acc += sess.run(accr, feed_dict={x : batch_xs_test, y : batch_ys_test, drop_out_prob : 1.})\n",
    "    \n",
    "print (\"Training complete, Accuracy : %.6f\" \\\n",
    "       % (avg_acc / num_batch_test,))\n"
   ]
  },
  {
   "cell_type": "code",
   "execution_count": null,
   "metadata": {
    "collapsed": true
   },
   "outputs": [],
   "source": []
  }
 ],
 "metadata": {
  "kernelspec": {
   "display_name": "Python 2",
   "language": "python",
   "name": "python2"
  },
  "language_info": {
   "codemirror_mode": {
    "name": "ipython",
    "version": 2
   },
   "file_extension": ".py",
   "mimetype": "text/x-python",
   "name": "python",
   "nbconvert_exporter": "python",
   "pygments_lexer": "ipython2",
   "version": "2.7.11+"
  }
 },
 "nbformat": 4,
 "nbformat_minor": 0
}
