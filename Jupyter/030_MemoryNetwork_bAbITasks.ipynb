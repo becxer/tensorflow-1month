{
 "cells": [
  {
   "cell_type": "code",
   "execution_count": 5,
   "metadata": {
    "collapsed": true
   },
   "outputs": [],
   "source": [
    "#\n",
    "# MemoryNetwork with bAbITasks\n",
    "#\n",
    "# @author becxer\n",
    "# @email becxer87@gmail.com\n",
    "#\n",
    "\n",
    "import math\n",
    "import random\n",
    "import string\n",
    "import numpy as np\n",
    "import tensorflow as tf"
   ]
  },
  {
   "cell_type": "code",
   "execution_count": 6,
   "metadata": {
    "collapsed": true
   },
   "outputs": [],
   "source": [
    "# Options for training\n",
    "nhops = 3\n",
    "training_epoch = 300\n",
    "lr = 0.001\n",
    "display_step = 30\n",
    "\n",
    "voca_size = 0\n",
    "batch_size = 20\n",
    "mem_size = 20\n",
    "sntc_size = 15\n",
    "edim_size = 10"
   ]
  },
  {
   "cell_type": "code",
   "execution_count": 9,
   "metadata": {
    "collapsed": false
   },
   "outputs": [
    {
     "name": "stdout",
     "output_type": "stream",
     "text": [
      "1\n",
      "2\n"
     ]
    }
   ],
   "source": [
    "# Loading bAbITasks data\n",
    "babi_dir = \"bAbITasks/en/\"\n",
    "train_babi_file = \"qa1_single-supporting-fact_train.txt\" \n",
    "test_babi_file = \"qa1_single-supporting-fact_test.txt\"\n",
    "\n",
    "# Collect vocabulary\n",
    "voca = {\"@UNK\" : 0}\n",
    "voca_count = 1\n",
    "\n",
    "def collect_voca(ssv):\n",
    "    global voca, voca_count\n",
    "    exclude = set(string.punctuation)\n",
    "    ecd_ssv = ''.join(ch for ch in ssv if ch not in exclude)\n",
    "    for word in ecd_ssv.split():\n",
    "        if not voca.has_key(word):\n",
    "            voca[word] = voca_count\n",
    "            voca_count += 1\n",
    "\n",
    "def sntc_2_voca(ssv):\n",
    "    global voca, voca_count\n",
    "    exclude = set(string.punctuation)\n",
    "    ecd_ssv = ''.join(ch for ch in ssv if ch not in exclude)\n",
    "    result = []\n",
    "    for word in ecd_ssv.split():\n",
    "        if not voca.has_key(word):\n",
    "            result.append(voca[word])\n",
    "    while(len(result) < sntc_size):\n",
    "        result.append(0)\n",
    "    return result\n",
    "\n"
   ]
  },
  {
   "cell_type": "code",
   "execution_count": null,
   "metadata": {
    "collapsed": true
   },
   "outputs": [],
   "source": []
  }
 ],
 "metadata": {
  "kernelspec": {
   "display_name": "Python 2",
   "language": "python",
   "name": "python2"
  },
  "language_info": {
   "codemirror_mode": {
    "name": "ipython",
    "version": 2
   },
   "file_extension": ".py",
   "mimetype": "text/x-python",
   "name": "python",
   "nbconvert_exporter": "python",
   "pygments_lexer": "ipython2",
   "version": "2.7.12"
  }
 },
 "nbformat": 4,
 "nbformat_minor": 1
}
